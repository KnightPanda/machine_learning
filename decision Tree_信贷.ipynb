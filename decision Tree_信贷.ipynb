{
 "cells": [
  {
   "cell_type": "markdown",
   "metadata": {},
   "source": [
    "熵： \n",
    "符号$x_i$的信息定义为      \n",
    "$l(x_i)=-log_2p(x_i)$\n",
    "所有类别所有可能值包含信息的期望值（数学期望）有以下公式 :\n",
    "$H=-\\sum^n_{i=1}p(x_i)log_2p(x_i)$  \n",
    "n为分类的数量，熵值越大，随机变量的不确定性就越大  \n"
   ]
  },
  {
   "cell_type": "markdown",
   "metadata": {},
   "source": [
    "\n",
    "决策树-信贷问题  \n",
    "https://cuijiahua.com/blog/2017/11/ml_2_decision_tree_1.html  \n",
    "属性 标注如下：\n",
    "- 年龄：0代表青年，1代表中年，2代表老年；\n",
    "- 有工作：0代表否，1代表是；\n",
    "- 有自己的房子：0代表否，1代表是；\n",
    "- 信贷情况：0代表一般，1代表好，2代表非常好；\n",
    "- 类别(是否给贷款)：no代表否，yes代表是。"
   ]
  },
  {
   "cell_type": "code",
   "execution_count": 1,
   "metadata": {},
   "outputs": [],
   "source": [
    "from math import log \n",
    "\"\"\"\n",
    "创建测试数据集\n",
    "\n",
    "\"\"\"\n",
    "def createDataSet():\n",
    "    dataSet = [[0, 0, 0, 0, 'no'],         #数据集\n",
    "            [0, 0, 0, 1, 'no'],\n",
    "            [0, 1, 0, 1, 'yes'],\n",
    "            [0, 1, 1, 0, 'yes'],\n",
    "            [0, 0, 0, 0, 'no'],\n",
    "            [1, 0, 0, 0, 'no'],\n",
    "            [1, 0, 0, 1, 'no'],\n",
    "            [1, 1, 1, 1, 'yes'],\n",
    "            [1, 0, 1, 2, 'yes'],\n",
    "            [1, 0, 1, 2, 'yes'],\n",
    "            [2, 0, 1, 2, 'yes'],\n",
    "            [2, 0, 1, 1, 'yes'],\n",
    "            [2, 1, 0, 1, 'yes'],\n",
    "            [2, 1, 0, 2, 'yes'],\n",
    "            [2, 0, 0, 0, 'no']]\n",
    "    labels = ['不放贷', '放贷']             #分类属性\n",
    "    return dataSet, labels                #返回数据集和分类属性   "
   ]
  },
  {
   "cell_type": "code",
   "execution_count": 4,
   "metadata": {},
   "outputs": [],
   "source": [
    "\"\"\"\n",
    "计算给定数据集的熵值\n",
    "\"\"\"\n",
    "def calcShannonEnt(dataSet):\n",
    "    numEntries=len(dataSet)#数据集行数\n",
    "    labelCounts={}#保存每个标签出现的次数的字典\n",
    "    for featVec in dataSet:#对每个特征向量进行统计\n",
    "        currentLabel=featVec[-1]#提取标签的信息\n",
    "        if currentLabel not in labelCounts.keys():#如果标签没有放入统计次数的字典则加入\n",
    "            labelCounts[currentLabel]=0\n",
    "        labelCounts[currentLabel]+=1\n",
    "    shannonEnt=0.0\n",
    "    for key in labelCounts:#计算熵\n",
    "        prob=float(labelCounts[key])/numEntries#选择该标签的 概论\n",
    "        shannonEnt-=prob*log(prob,2)#套用公式\n",
    "    return shannonEnt\n",
    "        "
   ]
  },
  {
   "cell_type": "code",
   "execution_count": 6,
   "metadata": {},
   "outputs": [
    {
     "name": "stdout",
     "output_type": "stream",
     "text": [
      "[[0, 0, 0, 0, 'no'], [0, 0, 0, 1, 'no'], [0, 1, 0, 1, 'yes'], [0, 1, 1, 0, 'yes'], [0, 0, 0, 0, 'no'], [1, 0, 0, 0, 'no'], [1, 0, 0, 1, 'no'], [1, 1, 1, 1, 'yes'], [1, 0, 1, 2, 'yes'], [1, 0, 1, 2, 'yes'], [2, 0, 1, 2, 'yes'], [2, 0, 1, 1, 'yes'], [2, 1, 0, 1, 'yes'], [2, 1, 0, 2, 'yes'], [2, 0, 0, 0, 'no']]\n",
      "0.9709505944546686\n"
     ]
    }
   ],
   "source": [
    "if __name__=='__main__':\n",
    "    dataSet,features=createDataSet()\n",
    "    print(dataSet)\n",
    "    print(calcShannonEnt(dataSet))#打印经验熵"
   ]
  },
  {
   "cell_type": "markdown",
   "metadata": {},
   "source": [
    "如何选择特征，需要查看信息增益。信息增益是针对特征而言的，信息增益越大,特征对最终分类结果影响就越大。我们应该选择对分类结果影响最大的特征作为分类特征。  \n",
    "- 条件熵$H(Y|X)$表示已知随机变量X的条件下随机变量Y的不确定性  \n",
    "$H(Y|X)=\\sum^n_{i=1}p_iH(Y|X=x_i)$  \n",
    "$p_i=P(X=x_i),i=1,2...,n$\n",
    "- 特征A对训练数据集D的信息增益g(D,A),定义集合D的经验熵H(D)与特征A条件下D的经验熵H(D|A)之差，即  \n",
    "$g(D,A)=H(D)-H(D|A)$  \n",
    "一般地，熵H(D)与条件熵H(D|A)之差称为互信息(mutual information)。决策树学习中的信息增益等价于训练数据集中类与特征的互信息 \n",
    "设特征A有n个不同的取值{a1,a2,···,an}，根据特征A的取值将D划分为n个子集{D1,D2，···,Dn}，|Di|为Di的样本个数。记子集Di中属于Ck的样本的集合为Dik，即Dik = Di ∩ Ck，|Dik|为Dik的样本个数。于是经验条件熵的公式可以些为： \n",
    "$H(D|A)=-\\sum ^n_{i=1}\\frac{|D_i|}{|D|}H(D_i)$\n",
    "$=-\\sum ^n_{i=1} \\frac{|D_i|}{|D|}\\sum^k_{i=1}\\frac{|D_{ik}|}{|D_i|}log_2\\frac{|D_{ik}|}{|D_i|}$"
   ]
  },
  {
   "cell_type": "code",
   "execution_count": 1,
   "metadata": {},
   "outputs": [],
   "source": [
    "\"\"\"\n",
    "按照给定 特征划分数据集\n",
    "dataSet--待划分的数据集\n",
    "axis-- 划分数据集的特征\n",
    "value--需要返回的特征的值\n",
    "\"\"\"\n",
    "def splitDataSet(dataSet,axis,value):\n",
    "    retDataSet=[]#创建返回的数据集列表\n",
    "    for featVec in dataSet:\n",
    "        if featVec[axis]==value:\n",
    "            reducedFeatVec=featVec[:axis]#去掉axis特征\n",
    "            reducedFeatVec.extend(featVec[axis+1:])#将符合条件的添加到返回的数据集中\n",
    "            retDataSet.append(reducedFeatVec)\n",
    "    return retDataSet#返回划分后的数据集\n"
   ]
  },
  {
   "cell_type": "code",
   "execution_count": 2,
   "metadata": {},
   "outputs": [],
   "source": [
    "\"\"\"\n",
    "选择最优特征\n",
    "dataSet--数据集\n",
    "bestFeature--信息增益最大的特征的索引（返回\n",
    "\n",
    "\"\"\"\n",
    "def chooseBestFeatureToSplit(dataSet):\n",
    "    numFeatures=len(dataSet[0])-1\n",
    "    baseEntropy=calcShannonEnt(dataSet)#计算数据集的香农熵\n",
    "    bestInfoGain=0.0#信息增益\n",
    "    bestFeature=-1#最优特征的索引值\n",
    "    for i in range(numFeatures):#遍历所有特征\n",
    "        #获取dataSet第i个所有特征\n",
    "        featList=[example[i] for example in dataSet]\n",
    "        uniqueVals=set(featList)#创建set,元素不可重复\n",
    "        newEntropy=0.0#经验条件熵\n",
    "        #计算信息增益\n",
    "        for value in uniqueVals:\n",
    "            subDataSet=splitDataSet(dataSet,i,value)#subDataSet划分后的子集\n",
    "            prob=len(subDataSet)/float(len(dataSet))#计算子集的概率\n",
    "            newEntropy+=prob*calcShannonEnt(subDataSet)#计算经验条件熵\n",
    "        infoGain=baseEntropy-newEntropy #信息增益\n",
    "        print(\"第%d个特征的增益为%.3f\" % (i, infoGain))            #打印每个特征的信息增益\n",
    "        if (infoGain > bestInfoGain):                             #计算信息增益\n",
    "            bestInfoGain = infoGain                             #更新信息增益，找到最大的信息增益\n",
    "            bestFeature = i                                     #记录信息增益最大的特征的索引值\n",
    "    return bestFeature                                             #返回信息增益最大的特征的索引值\n",
    " "
   ]
  },
  {
   "cell_type": "code",
   "execution_count": 4,
   "metadata": {},
   "outputs": [],
   "source": [
    "from math import log \n",
    "\"\"\"\n",
    "创建测试数据集\n",
    "\n",
    "\"\"\"\n",
    "def createDataSet():\n",
    "    dataSet = [[0, 0, 0, 0, 'no'],         #数据集\n",
    "            [0, 0, 0, 1, 'no'],\n",
    "            [0, 1, 0, 1, 'yes'],\n",
    "            [0, 1, 1, 0, 'yes'],\n",
    "            [0, 0, 0, 0, 'no'],\n",
    "            [1, 0, 0, 0, 'no'],\n",
    "            [1, 0, 0, 1, 'no'],\n",
    "            [1, 1, 1, 1, 'yes'],\n",
    "            [1, 0, 1, 2, 'yes'],\n",
    "            [1, 0, 1, 2, 'yes'],\n",
    "            [2, 0, 1, 2, 'yes'],\n",
    "            [2, 0, 1, 1, 'yes'],\n",
    "            [2, 1, 0, 1, 'yes'],\n",
    "            [2, 1, 0, 2, 'yes'],\n",
    "            [2, 0, 0, 0, 'no']]\n",
    "    labels = ['不放贷', '放贷']             #分类属性\n",
    "    return dataSet, labels                #返回数据集和分类属性   "
   ]
  },
  {
   "cell_type": "code",
   "execution_count": 6,
   "metadata": {},
   "outputs": [],
   "source": [
    "\"\"\"\n",
    "计算给定数据集的熵值\n",
    "\"\"\"\n",
    "def calcShannonEnt(dataSet):\n",
    "    numEntries=len(dataSet)#数据集行数\n",
    "    labelCounts={}#保存每个标签出现的次数的字典\n",
    "    for featVec in dataSet:#对每个特征向量进行统计\n",
    "        currentLabel=featVec[-1]#提取标签的信息\n",
    "        if currentLabel not in labelCounts.keys():#如果标签没有放入统计次数的字典则加入\n",
    "            labelCounts[currentLabel]=0\n",
    "        labelCounts[currentLabel]+=1\n",
    "    shannonEnt=0.0\n",
    "    for key in labelCounts:#计算熵\n",
    "        prob=float(labelCounts[key])/numEntries#选择该标签的 概论\n",
    "        shannonEnt-=prob*log(prob,2)#套用公式\n",
    "    return shannonEnt\n",
    "        "
   ]
  },
  {
   "cell_type": "code",
   "execution_count": 7,
   "metadata": {},
   "outputs": [
    {
     "name": "stdout",
     "output_type": "stream",
     "text": [
      "第0个特征的增益为0.083\n",
      "第1个特征的增益为0.324\n",
      "第2个特征的增益为0.420\n",
      "第3个特征的增益为0.363\n",
      "最优特征索引值:2\n"
     ]
    }
   ],
   "source": [
    "if __name__ == '__main__':\n",
    "    dataSet, features = createDataSet()\n",
    "    print(\"最优特征索引值:\" + str(chooseBestFeatureToSplit(dataSet)))"
   ]
  },
  {
   "cell_type": "markdown",
   "metadata": {},
   "source": [
    "以上得 \n",
    "最优特征索引值为2 也就是特征A3(房子） \n"
   ]
  },
  {
   "cell_type": "code",
   "execution_count": null,
   "metadata": {},
   "outputs": [],
   "source": []
  }
 ],
 "metadata": {
  "kernelspec": {
   "display_name": "Python [conda env:root] *",
   "language": "python",
   "name": "conda-root-py"
  },
  "language_info": {
   "codemirror_mode": {
    "name": "ipython",
    "version": 3
   },
   "file_extension": ".py",
   "mimetype": "text/x-python",
   "name": "python",
   "nbconvert_exporter": "python",
   "pygments_lexer": "ipython3",
   "version": "3.7.4"
  }
 },
 "nbformat": 4,
 "nbformat_minor": 4
}
